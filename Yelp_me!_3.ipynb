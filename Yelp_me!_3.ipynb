{
  "nbformat": 4,
  "nbformat_minor": 0,
  "metadata": {
    "colab": {
      "provenance": [],
      "include_colab_link": true
    },
    "kernelspec": {
      "name": "python3",
      "display_name": "Python 3"
    },
    "language_info": {
      "name": "python"
    }
  },
  "cells": [
    {
      "cell_type": "markdown",
      "metadata": {
        "id": "view-in-github",
        "colab_type": "text"
      },
      "source": [
        "<a href=\"https://colab.research.google.com/github/ArchXOX/Yelp-me-/blob/main/Yelp_me!_3.ipynb\" target=\"_parent\"><img src=\"https://colab.research.google.com/assets/colab-badge.svg\" alt=\"Open In Colab\"/></a>"
      ]
    },
    {
      "cell_type": "markdown",
      "source": [
        "# Libraries and Data"
      ],
      "metadata": {
        "id": "uzTO9nLg0OXt"
      }
    },
    {
      "cell_type": "code",
      "source": [
        "from google.colab import drive\n",
        "drive.mount('/content/drive')"
      ],
      "metadata": {
        "colab": {
          "base_uri": "https://localhost:8080/"
        },
        "id": "bsoEMnRkdmpa",
        "outputId": "bd7d0dea-2762-4cfb-a8a5-6eb46f966bfc"
      },
      "execution_count": null,
      "outputs": [
        {
          "output_type": "stream",
          "name": "stdout",
          "text": [
            "Mounted at /content/drive\n"
          ]
        }
      ]
    },
    {
      "cell_type": "code",
      "source": [
        "%cd /content/drive/MyDrive/Statistics with Python - From Descriptive Statistics/Statistics with Python (2)/Statistics with Python/Inferential Statistics/Capstone Project_ Yelp me!"
      ],
      "metadata": {
        "colab": {
          "base_uri": "https://localhost:8080/"
        },
        "id": "XsJYVm5hdjv4",
        "outputId": "d6b83768-58da-4906-95e6-dfb7c8a670bb"
      },
      "execution_count": null,
      "outputs": [
        {
          "output_type": "stream",
          "name": "stdout",
          "text": [
            "/content/drive/MyDrive/Statistics with Python - From Descriptive Statistics/Statistics with Python (2)/Statistics with Python/Inferential Statistics/Capstone Project_ Yelp me!\n"
          ]
        }
      ]
    },
    {
      "cell_type": "code",
      "source": [
        "#Importing libraries\n",
        "import pandas as pd\n",
        "import numpy as np\n",
        "import scipy.stats as st"
      ],
      "metadata": {
        "id": "6rTb-ZzHd713"
      },
      "execution_count": null,
      "outputs": []
    },
    {
      "cell_type": "code",
      "source": [
        "#Converting data in json file format using pandas\n",
        "df=pd.read_json('yelp_academic_dataset_business.json', lines=True)\n",
        "df.head()"
      ],
      "metadata": {
        "colab": {
          "base_uri": "https://localhost:8080/",
          "height": 573
        },
        "id": "vDlwTBH9ec2I",
        "outputId": "7d671a03-937e-4fa9-d6cf-b0b9849f06af"
      },
      "execution_count": null,
      "outputs": [
        {
          "output_type": "execute_result",
          "data": {
            "text/plain": [
              "              business_id                      name  \\\n",
              "0  Pns2l4eNsfO8kk83dixA6A  Abby Rappoport, LAC, CMQ   \n",
              "1  mpf3x-BjTdTEA3yCZrAYPw             The UPS Store   \n",
              "2  tUFrWirKiKi_TAnsVWINQQ                    Target   \n",
              "3  MTSW4McQd7CbVtyjqoe9mw        St Honore Pastries   \n",
              "4  mWMc6_wTdE0EUBKIGXDVfA  Perkiomen Valley Brewery   \n",
              "\n",
              "                           address           city state postal_code  \\\n",
              "0           1616 Chapala St, Ste 2  Santa Barbara    CA       93101   \n",
              "1  87 Grasso Plaza Shopping Center         Affton    MO       63123   \n",
              "2             5255 E Broadway Blvd         Tucson    AZ       85711   \n",
              "3                      935 Race St   Philadelphia    PA       19107   \n",
              "4                    101 Walnut St     Green Lane    PA       18054   \n",
              "\n",
              "    latitude   longitude  stars  review_count  is_open  \\\n",
              "0  34.426679 -119.711197    5.0             7        0   \n",
              "1  38.551126  -90.335695    3.0            15        1   \n",
              "2  32.223236 -110.880452    3.5            22        0   \n",
              "3  39.955505  -75.155564    4.0            80        1   \n",
              "4  40.338183  -75.471659    4.5            13        1   \n",
              "\n",
              "                                          attributes  \\\n",
              "0                      {'ByAppointmentOnly': 'True'}   \n",
              "1             {'BusinessAcceptsCreditCards': 'True'}   \n",
              "2  {'BikeParking': 'True', 'BusinessAcceptsCredit...   \n",
              "3  {'RestaurantsDelivery': 'False', 'OutdoorSeati...   \n",
              "4  {'BusinessAcceptsCreditCards': 'True', 'Wheelc...   \n",
              "\n",
              "                                          categories  \\\n",
              "0  Doctors, Traditional Chinese Medicine, Naturop...   \n",
              "1  Shipping Centers, Local Services, Notaries, Ma...   \n",
              "2  Department Stores, Shopping, Fashion, Home & G...   \n",
              "3  Restaurants, Food, Bubble Tea, Coffee & Tea, B...   \n",
              "4                          Brewpubs, Breweries, Food   \n",
              "\n",
              "                                               hours  \n",
              "0                                               None  \n",
              "1  {'Monday': '0:0-0:0', 'Tuesday': '8:0-18:30', ...  \n",
              "2  {'Monday': '8:0-22:0', 'Tuesday': '8:0-22:0', ...  \n",
              "3  {'Monday': '7:0-20:0', 'Tuesday': '7:0-20:0', ...  \n",
              "4  {'Wednesday': '14:0-22:0', 'Thursday': '16:0-2...  "
            ],
            "text/html": [
              "\n",
              "  <div id=\"df-94d7fcc9-95df-4f4b-be62-5a2aea2116f0\" class=\"colab-df-container\">\n",
              "    <div>\n",
              "<style scoped>\n",
              "    .dataframe tbody tr th:only-of-type {\n",
              "        vertical-align: middle;\n",
              "    }\n",
              "\n",
              "    .dataframe tbody tr th {\n",
              "        vertical-align: top;\n",
              "    }\n",
              "\n",
              "    .dataframe thead th {\n",
              "        text-align: right;\n",
              "    }\n",
              "</style>\n",
              "<table border=\"1\" class=\"dataframe\">\n",
              "  <thead>\n",
              "    <tr style=\"text-align: right;\">\n",
              "      <th></th>\n",
              "      <th>business_id</th>\n",
              "      <th>name</th>\n",
              "      <th>address</th>\n",
              "      <th>city</th>\n",
              "      <th>state</th>\n",
              "      <th>postal_code</th>\n",
              "      <th>latitude</th>\n",
              "      <th>longitude</th>\n",
              "      <th>stars</th>\n",
              "      <th>review_count</th>\n",
              "      <th>is_open</th>\n",
              "      <th>attributes</th>\n",
              "      <th>categories</th>\n",
              "      <th>hours</th>\n",
              "    </tr>\n",
              "  </thead>\n",
              "  <tbody>\n",
              "    <tr>\n",
              "      <th>0</th>\n",
              "      <td>Pns2l4eNsfO8kk83dixA6A</td>\n",
              "      <td>Abby Rappoport, LAC, CMQ</td>\n",
              "      <td>1616 Chapala St, Ste 2</td>\n",
              "      <td>Santa Barbara</td>\n",
              "      <td>CA</td>\n",
              "      <td>93101</td>\n",
              "      <td>34.426679</td>\n",
              "      <td>-119.711197</td>\n",
              "      <td>5.0</td>\n",
              "      <td>7</td>\n",
              "      <td>0</td>\n",
              "      <td>{'ByAppointmentOnly': 'True'}</td>\n",
              "      <td>Doctors, Traditional Chinese Medicine, Naturop...</td>\n",
              "      <td>None</td>\n",
              "    </tr>\n",
              "    <tr>\n",
              "      <th>1</th>\n",
              "      <td>mpf3x-BjTdTEA3yCZrAYPw</td>\n",
              "      <td>The UPS Store</td>\n",
              "      <td>87 Grasso Plaza Shopping Center</td>\n",
              "      <td>Affton</td>\n",
              "      <td>MO</td>\n",
              "      <td>63123</td>\n",
              "      <td>38.551126</td>\n",
              "      <td>-90.335695</td>\n",
              "      <td>3.0</td>\n",
              "      <td>15</td>\n",
              "      <td>1</td>\n",
              "      <td>{'BusinessAcceptsCreditCards': 'True'}</td>\n",
              "      <td>Shipping Centers, Local Services, Notaries, Ma...</td>\n",
              "      <td>{'Monday': '0:0-0:0', 'Tuesday': '8:0-18:30', ...</td>\n",
              "    </tr>\n",
              "    <tr>\n",
              "      <th>2</th>\n",
              "      <td>tUFrWirKiKi_TAnsVWINQQ</td>\n",
              "      <td>Target</td>\n",
              "      <td>5255 E Broadway Blvd</td>\n",
              "      <td>Tucson</td>\n",
              "      <td>AZ</td>\n",
              "      <td>85711</td>\n",
              "      <td>32.223236</td>\n",
              "      <td>-110.880452</td>\n",
              "      <td>3.5</td>\n",
              "      <td>22</td>\n",
              "      <td>0</td>\n",
              "      <td>{'BikeParking': 'True', 'BusinessAcceptsCredit...</td>\n",
              "      <td>Department Stores, Shopping, Fashion, Home &amp; G...</td>\n",
              "      <td>{'Monday': '8:0-22:0', 'Tuesday': '8:0-22:0', ...</td>\n",
              "    </tr>\n",
              "    <tr>\n",
              "      <th>3</th>\n",
              "      <td>MTSW4McQd7CbVtyjqoe9mw</td>\n",
              "      <td>St Honore Pastries</td>\n",
              "      <td>935 Race St</td>\n",
              "      <td>Philadelphia</td>\n",
              "      <td>PA</td>\n",
              "      <td>19107</td>\n",
              "      <td>39.955505</td>\n",
              "      <td>-75.155564</td>\n",
              "      <td>4.0</td>\n",
              "      <td>80</td>\n",
              "      <td>1</td>\n",
              "      <td>{'RestaurantsDelivery': 'False', 'OutdoorSeati...</td>\n",
              "      <td>Restaurants, Food, Bubble Tea, Coffee &amp; Tea, B...</td>\n",
              "      <td>{'Monday': '7:0-20:0', 'Tuesday': '7:0-20:0', ...</td>\n",
              "    </tr>\n",
              "    <tr>\n",
              "      <th>4</th>\n",
              "      <td>mWMc6_wTdE0EUBKIGXDVfA</td>\n",
              "      <td>Perkiomen Valley Brewery</td>\n",
              "      <td>101 Walnut St</td>\n",
              "      <td>Green Lane</td>\n",
              "      <td>PA</td>\n",
              "      <td>18054</td>\n",
              "      <td>40.338183</td>\n",
              "      <td>-75.471659</td>\n",
              "      <td>4.5</td>\n",
              "      <td>13</td>\n",
              "      <td>1</td>\n",
              "      <td>{'BusinessAcceptsCreditCards': 'True', 'Wheelc...</td>\n",
              "      <td>Brewpubs, Breweries, Food</td>\n",
              "      <td>{'Wednesday': '14:0-22:0', 'Thursday': '16:0-2...</td>\n",
              "    </tr>\n",
              "  </tbody>\n",
              "</table>\n",
              "</div>\n",
              "    <div class=\"colab-df-buttons\">\n",
              "\n",
              "  <div class=\"colab-df-container\">\n",
              "    <button class=\"colab-df-convert\" onclick=\"convertToInteractive('df-94d7fcc9-95df-4f4b-be62-5a2aea2116f0')\"\n",
              "            title=\"Convert this dataframe to an interactive table.\"\n",
              "            style=\"display:none;\">\n",
              "\n",
              "  <svg xmlns=\"http://www.w3.org/2000/svg\" height=\"24px\" viewBox=\"0 -960 960 960\">\n",
              "    <path d=\"M120-120v-720h720v720H120Zm60-500h600v-160H180v160Zm220 220h160v-160H400v160Zm0 220h160v-160H400v160ZM180-400h160v-160H180v160Zm440 0h160v-160H620v160ZM180-180h160v-160H180v160Zm440 0h160v-160H620v160Z\"/>\n",
              "  </svg>\n",
              "    </button>\n",
              "\n",
              "  <style>\n",
              "    .colab-df-container {\n",
              "      display:flex;\n",
              "      gap: 12px;\n",
              "    }\n",
              "\n",
              "    .colab-df-convert {\n",
              "      background-color: #E8F0FE;\n",
              "      border: none;\n",
              "      border-radius: 50%;\n",
              "      cursor: pointer;\n",
              "      display: none;\n",
              "      fill: #1967D2;\n",
              "      height: 32px;\n",
              "      padding: 0 0 0 0;\n",
              "      width: 32px;\n",
              "    }\n",
              "\n",
              "    .colab-df-convert:hover {\n",
              "      background-color: #E2EBFA;\n",
              "      box-shadow: 0px 1px 2px rgba(60, 64, 67, 0.3), 0px 1px 3px 1px rgba(60, 64, 67, 0.15);\n",
              "      fill: #174EA6;\n",
              "    }\n",
              "\n",
              "    .colab-df-buttons div {\n",
              "      margin-bottom: 4px;\n",
              "    }\n",
              "\n",
              "    [theme=dark] .colab-df-convert {\n",
              "      background-color: #3B4455;\n",
              "      fill: #D2E3FC;\n",
              "    }\n",
              "\n",
              "    [theme=dark] .colab-df-convert:hover {\n",
              "      background-color: #434B5C;\n",
              "      box-shadow: 0px 1px 3px 1px rgba(0, 0, 0, 0.15);\n",
              "      filter: drop-shadow(0px 1px 2px rgba(0, 0, 0, 0.3));\n",
              "      fill: #FFFFFF;\n",
              "    }\n",
              "  </style>\n",
              "\n",
              "    <script>\n",
              "      const buttonEl =\n",
              "        document.querySelector('#df-94d7fcc9-95df-4f4b-be62-5a2aea2116f0 button.colab-df-convert');\n",
              "      buttonEl.style.display =\n",
              "        google.colab.kernel.accessAllowed ? 'block' : 'none';\n",
              "\n",
              "      async function convertToInteractive(key) {\n",
              "        const element = document.querySelector('#df-94d7fcc9-95df-4f4b-be62-5a2aea2116f0');\n",
              "        const dataTable =\n",
              "          await google.colab.kernel.invokeFunction('convertToInteractive',\n",
              "                                                    [key], {});\n",
              "        if (!dataTable) return;\n",
              "\n",
              "        const docLinkHtml = 'Like what you see? Visit the ' +\n",
              "          '<a target=\"_blank\" href=https://colab.research.google.com/notebooks/data_table.ipynb>data table notebook</a>'\n",
              "          + ' to learn more about interactive tables.';\n",
              "        element.innerHTML = '';\n",
              "        dataTable['output_type'] = 'display_data';\n",
              "        await google.colab.output.renderOutput(dataTable, element);\n",
              "        const docLink = document.createElement('div');\n",
              "        docLink.innerHTML = docLinkHtml;\n",
              "        element.appendChild(docLink);\n",
              "      }\n",
              "    </script>\n",
              "  </div>\n",
              "\n",
              "\n",
              "<div id=\"df-351f7eda-e138-488a-b825-ef62cc1fcb46\">\n",
              "  <button class=\"colab-df-quickchart\" onclick=\"quickchart('df-351f7eda-e138-488a-b825-ef62cc1fcb46')\"\n",
              "            title=\"Suggest charts\"\n",
              "            style=\"display:none;\">\n",
              "\n",
              "<svg xmlns=\"http://www.w3.org/2000/svg\" height=\"24px\"viewBox=\"0 0 24 24\"\n",
              "     width=\"24px\">\n",
              "    <g>\n",
              "        <path d=\"M19 3H5c-1.1 0-2 .9-2 2v14c0 1.1.9 2 2 2h14c1.1 0 2-.9 2-2V5c0-1.1-.9-2-2-2zM9 17H7v-7h2v7zm4 0h-2V7h2v10zm4 0h-2v-4h2v4z\"/>\n",
              "    </g>\n",
              "</svg>\n",
              "  </button>\n",
              "\n",
              "<style>\n",
              "  .colab-df-quickchart {\n",
              "      --bg-color: #E8F0FE;\n",
              "      --fill-color: #1967D2;\n",
              "      --hover-bg-color: #E2EBFA;\n",
              "      --hover-fill-color: #174EA6;\n",
              "      --disabled-fill-color: #AAA;\n",
              "      --disabled-bg-color: #DDD;\n",
              "  }\n",
              "\n",
              "  [theme=dark] .colab-df-quickchart {\n",
              "      --bg-color: #3B4455;\n",
              "      --fill-color: #D2E3FC;\n",
              "      --hover-bg-color: #434B5C;\n",
              "      --hover-fill-color: #FFFFFF;\n",
              "      --disabled-bg-color: #3B4455;\n",
              "      --disabled-fill-color: #666;\n",
              "  }\n",
              "\n",
              "  .colab-df-quickchart {\n",
              "    background-color: var(--bg-color);\n",
              "    border: none;\n",
              "    border-radius: 50%;\n",
              "    cursor: pointer;\n",
              "    display: none;\n",
              "    fill: var(--fill-color);\n",
              "    height: 32px;\n",
              "    padding: 0;\n",
              "    width: 32px;\n",
              "  }\n",
              "\n",
              "  .colab-df-quickchart:hover {\n",
              "    background-color: var(--hover-bg-color);\n",
              "    box-shadow: 0 1px 2px rgba(60, 64, 67, 0.3), 0 1px 3px 1px rgba(60, 64, 67, 0.15);\n",
              "    fill: var(--button-hover-fill-color);\n",
              "  }\n",
              "\n",
              "  .colab-df-quickchart-complete:disabled,\n",
              "  .colab-df-quickchart-complete:disabled:hover {\n",
              "    background-color: var(--disabled-bg-color);\n",
              "    fill: var(--disabled-fill-color);\n",
              "    box-shadow: none;\n",
              "  }\n",
              "\n",
              "  .colab-df-spinner {\n",
              "    border: 2px solid var(--fill-color);\n",
              "    border-color: transparent;\n",
              "    border-bottom-color: var(--fill-color);\n",
              "    animation:\n",
              "      spin 1s steps(1) infinite;\n",
              "  }\n",
              "\n",
              "  @keyframes spin {\n",
              "    0% {\n",
              "      border-color: transparent;\n",
              "      border-bottom-color: var(--fill-color);\n",
              "      border-left-color: var(--fill-color);\n",
              "    }\n",
              "    20% {\n",
              "      border-color: transparent;\n",
              "      border-left-color: var(--fill-color);\n",
              "      border-top-color: var(--fill-color);\n",
              "    }\n",
              "    30% {\n",
              "      border-color: transparent;\n",
              "      border-left-color: var(--fill-color);\n",
              "      border-top-color: var(--fill-color);\n",
              "      border-right-color: var(--fill-color);\n",
              "    }\n",
              "    40% {\n",
              "      border-color: transparent;\n",
              "      border-right-color: var(--fill-color);\n",
              "      border-top-color: var(--fill-color);\n",
              "    }\n",
              "    60% {\n",
              "      border-color: transparent;\n",
              "      border-right-color: var(--fill-color);\n",
              "    }\n",
              "    80% {\n",
              "      border-color: transparent;\n",
              "      border-right-color: var(--fill-color);\n",
              "      border-bottom-color: var(--fill-color);\n",
              "    }\n",
              "    90% {\n",
              "      border-color: transparent;\n",
              "      border-bottom-color: var(--fill-color);\n",
              "    }\n",
              "  }\n",
              "</style>\n",
              "\n",
              "  <script>\n",
              "    async function quickchart(key) {\n",
              "      const quickchartButtonEl =\n",
              "        document.querySelector('#' + key + ' button');\n",
              "      quickchartButtonEl.disabled = true;  // To prevent multiple clicks.\n",
              "      quickchartButtonEl.classList.add('colab-df-spinner');\n",
              "      try {\n",
              "        const charts = await google.colab.kernel.invokeFunction(\n",
              "            'suggestCharts', [key], {});\n",
              "      } catch (error) {\n",
              "        console.error('Error during call to suggestCharts:', error);\n",
              "      }\n",
              "      quickchartButtonEl.classList.remove('colab-df-spinner');\n",
              "      quickchartButtonEl.classList.add('colab-df-quickchart-complete');\n",
              "    }\n",
              "    (() => {\n",
              "      let quickchartButtonEl =\n",
              "        document.querySelector('#df-351f7eda-e138-488a-b825-ef62cc1fcb46 button');\n",
              "      quickchartButtonEl.style.display =\n",
              "        google.colab.kernel.accessAllowed ? 'block' : 'none';\n",
              "    })();\n",
              "  </script>\n",
              "</div>\n",
              "\n",
              "    </div>\n",
              "  </div>\n"
            ],
            "application/vnd.google.colaboratory.intrinsic+json": {
              "type": "dataframe",
              "variable_name": "df"
            }
          },
          "metadata": {},
          "execution_count": 4
        }
      ]
    },
    {
      "cell_type": "code",
      "source": [
        "#Filtering out the rows that don't have 'Restaurants' in the 'categories' column\n",
        "restaurant_df=df[df['categories'].str.contains('Restaurants', case=False, na=False)]\n",
        "\n",
        "#Displaying filtered dataframe\n",
        "restaurant_df.head()"
      ],
      "metadata": {
        "colab": {
          "base_uri": "https://localhost:8080/",
          "height": 591
        },
        "id": "vP8VGym_f-8K",
        "outputId": "e6d2e29c-209d-4e7f-f6dc-e3cb0de25194"
      },
      "execution_count": null,
      "outputs": [
        {
          "output_type": "execute_result",
          "data": {
            "text/plain": [
              "               business_id                   name              address  \\\n",
              "3   MTSW4McQd7CbVtyjqoe9mw     St Honore Pastries          935 Race St   \n",
              "5   CF33F8-E6oudUQ46HnavjQ         Sonic Drive-In        615 S Main St   \n",
              "8   k0hlBqXX-Bt0vf1op7Jr1w  Tsevi's Pub And Grill    8025 Mackenzie Rd   \n",
              "9   bBDDEgkFA1Otx9Lfe7BZUQ         Sonic Drive-In  2312 Dickerson Pike   \n",
              "11  eEOYSgkmpB90uNA7lDOMRA  Vietnamese Food Truck                        \n",
              "\n",
              "            city state postal_code   latitude  longitude  stars  review_count  \\\n",
              "3   Philadelphia    PA       19107  39.955505 -75.155564    4.0            80   \n",
              "5   Ashland City    TN       37015  36.269593 -87.058943    2.0             6   \n",
              "8         Affton    MO       63123  38.565165 -90.321087    3.0            19   \n",
              "9      Nashville    TN       37207  36.208102 -86.768170    1.5            10   \n",
              "11     Tampa Bay    FL       33602  27.955269 -82.456320    4.0            10   \n",
              "\n",
              "    is_open                                         attributes  \\\n",
              "3         1  {'RestaurantsDelivery': 'False', 'OutdoorSeati...   \n",
              "5         1  {'BusinessParking': 'None', 'BusinessAcceptsCr...   \n",
              "8         0  {'Caters': 'True', 'Alcohol': 'u'full_bar'', '...   \n",
              "9         1  {'RestaurantsAttire': ''casual'', 'Restaurants...   \n",
              "11        1  {'Alcohol': ''none'', 'OutdoorSeating': 'None'...   \n",
              "\n",
              "                                           categories  \\\n",
              "3   Restaurants, Food, Bubble Tea, Coffee & Tea, B...   \n",
              "5   Burgers, Fast Food, Sandwiches, Food, Ice Crea...   \n",
              "8   Pubs, Restaurants, Italian, Bars, American (Tr...   \n",
              "9   Ice Cream & Frozen Yogurt, Fast Food, Burgers,...   \n",
              "11         Vietnamese, Food, Restaurants, Food Trucks   \n",
              "\n",
              "                                                hours  \n",
              "3   {'Monday': '7:0-20:0', 'Tuesday': '7:0-20:0', ...  \n",
              "5   {'Monday': '0:0-0:0', 'Tuesday': '6:0-22:0', '...  \n",
              "8                                                None  \n",
              "9   {'Monday': '0:0-0:0', 'Tuesday': '6:0-21:0', '...  \n",
              "11  {'Monday': '11:0-14:0', 'Tuesday': '11:0-14:0'...  "
            ],
            "text/html": [
              "\n",
              "  <div id=\"df-271091ba-9d79-4e27-9ed6-3c6f9ce31268\" class=\"colab-df-container\">\n",
              "    <div>\n",
              "<style scoped>\n",
              "    .dataframe tbody tr th:only-of-type {\n",
              "        vertical-align: middle;\n",
              "    }\n",
              "\n",
              "    .dataframe tbody tr th {\n",
              "        vertical-align: top;\n",
              "    }\n",
              "\n",
              "    .dataframe thead th {\n",
              "        text-align: right;\n",
              "    }\n",
              "</style>\n",
              "<table border=\"1\" class=\"dataframe\">\n",
              "  <thead>\n",
              "    <tr style=\"text-align: right;\">\n",
              "      <th></th>\n",
              "      <th>business_id</th>\n",
              "      <th>name</th>\n",
              "      <th>address</th>\n",
              "      <th>city</th>\n",
              "      <th>state</th>\n",
              "      <th>postal_code</th>\n",
              "      <th>latitude</th>\n",
              "      <th>longitude</th>\n",
              "      <th>stars</th>\n",
              "      <th>review_count</th>\n",
              "      <th>is_open</th>\n",
              "      <th>attributes</th>\n",
              "      <th>categories</th>\n",
              "      <th>hours</th>\n",
              "    </tr>\n",
              "  </thead>\n",
              "  <tbody>\n",
              "    <tr>\n",
              "      <th>3</th>\n",
              "      <td>MTSW4McQd7CbVtyjqoe9mw</td>\n",
              "      <td>St Honore Pastries</td>\n",
              "      <td>935 Race St</td>\n",
              "      <td>Philadelphia</td>\n",
              "      <td>PA</td>\n",
              "      <td>19107</td>\n",
              "      <td>39.955505</td>\n",
              "      <td>-75.155564</td>\n",
              "      <td>4.0</td>\n",
              "      <td>80</td>\n",
              "      <td>1</td>\n",
              "      <td>{'RestaurantsDelivery': 'False', 'OutdoorSeati...</td>\n",
              "      <td>Restaurants, Food, Bubble Tea, Coffee &amp; Tea, B...</td>\n",
              "      <td>{'Monday': '7:0-20:0', 'Tuesday': '7:0-20:0', ...</td>\n",
              "    </tr>\n",
              "    <tr>\n",
              "      <th>5</th>\n",
              "      <td>CF33F8-E6oudUQ46HnavjQ</td>\n",
              "      <td>Sonic Drive-In</td>\n",
              "      <td>615 S Main St</td>\n",
              "      <td>Ashland City</td>\n",
              "      <td>TN</td>\n",
              "      <td>37015</td>\n",
              "      <td>36.269593</td>\n",
              "      <td>-87.058943</td>\n",
              "      <td>2.0</td>\n",
              "      <td>6</td>\n",
              "      <td>1</td>\n",
              "      <td>{'BusinessParking': 'None', 'BusinessAcceptsCr...</td>\n",
              "      <td>Burgers, Fast Food, Sandwiches, Food, Ice Crea...</td>\n",
              "      <td>{'Monday': '0:0-0:0', 'Tuesday': '6:0-22:0', '...</td>\n",
              "    </tr>\n",
              "    <tr>\n",
              "      <th>8</th>\n",
              "      <td>k0hlBqXX-Bt0vf1op7Jr1w</td>\n",
              "      <td>Tsevi's Pub And Grill</td>\n",
              "      <td>8025 Mackenzie Rd</td>\n",
              "      <td>Affton</td>\n",
              "      <td>MO</td>\n",
              "      <td>63123</td>\n",
              "      <td>38.565165</td>\n",
              "      <td>-90.321087</td>\n",
              "      <td>3.0</td>\n",
              "      <td>19</td>\n",
              "      <td>0</td>\n",
              "      <td>{'Caters': 'True', 'Alcohol': 'u'full_bar'', '...</td>\n",
              "      <td>Pubs, Restaurants, Italian, Bars, American (Tr...</td>\n",
              "      <td>None</td>\n",
              "    </tr>\n",
              "    <tr>\n",
              "      <th>9</th>\n",
              "      <td>bBDDEgkFA1Otx9Lfe7BZUQ</td>\n",
              "      <td>Sonic Drive-In</td>\n",
              "      <td>2312 Dickerson Pike</td>\n",
              "      <td>Nashville</td>\n",
              "      <td>TN</td>\n",
              "      <td>37207</td>\n",
              "      <td>36.208102</td>\n",
              "      <td>-86.768170</td>\n",
              "      <td>1.5</td>\n",
              "      <td>10</td>\n",
              "      <td>1</td>\n",
              "      <td>{'RestaurantsAttire': ''casual'', 'Restaurants...</td>\n",
              "      <td>Ice Cream &amp; Frozen Yogurt, Fast Food, Burgers,...</td>\n",
              "      <td>{'Monday': '0:0-0:0', 'Tuesday': '6:0-21:0', '...</td>\n",
              "    </tr>\n",
              "    <tr>\n",
              "      <th>11</th>\n",
              "      <td>eEOYSgkmpB90uNA7lDOMRA</td>\n",
              "      <td>Vietnamese Food Truck</td>\n",
              "      <td></td>\n",
              "      <td>Tampa Bay</td>\n",
              "      <td>FL</td>\n",
              "      <td>33602</td>\n",
              "      <td>27.955269</td>\n",
              "      <td>-82.456320</td>\n",
              "      <td>4.0</td>\n",
              "      <td>10</td>\n",
              "      <td>1</td>\n",
              "      <td>{'Alcohol': ''none'', 'OutdoorSeating': 'None'...</td>\n",
              "      <td>Vietnamese, Food, Restaurants, Food Trucks</td>\n",
              "      <td>{'Monday': '11:0-14:0', 'Tuesday': '11:0-14:0'...</td>\n",
              "    </tr>\n",
              "  </tbody>\n",
              "</table>\n",
              "</div>\n",
              "    <div class=\"colab-df-buttons\">\n",
              "\n",
              "  <div class=\"colab-df-container\">\n",
              "    <button class=\"colab-df-convert\" onclick=\"convertToInteractive('df-271091ba-9d79-4e27-9ed6-3c6f9ce31268')\"\n",
              "            title=\"Convert this dataframe to an interactive table.\"\n",
              "            style=\"display:none;\">\n",
              "\n",
              "  <svg xmlns=\"http://www.w3.org/2000/svg\" height=\"24px\" viewBox=\"0 -960 960 960\">\n",
              "    <path d=\"M120-120v-720h720v720H120Zm60-500h600v-160H180v160Zm220 220h160v-160H400v160Zm0 220h160v-160H400v160ZM180-400h160v-160H180v160Zm440 0h160v-160H620v160ZM180-180h160v-160H180v160Zm440 0h160v-160H620v160Z\"/>\n",
              "  </svg>\n",
              "    </button>\n",
              "\n",
              "  <style>\n",
              "    .colab-df-container {\n",
              "      display:flex;\n",
              "      gap: 12px;\n",
              "    }\n",
              "\n",
              "    .colab-df-convert {\n",
              "      background-color: #E8F0FE;\n",
              "      border: none;\n",
              "      border-radius: 50%;\n",
              "      cursor: pointer;\n",
              "      display: none;\n",
              "      fill: #1967D2;\n",
              "      height: 32px;\n",
              "      padding: 0 0 0 0;\n",
              "      width: 32px;\n",
              "    }\n",
              "\n",
              "    .colab-df-convert:hover {\n",
              "      background-color: #E2EBFA;\n",
              "      box-shadow: 0px 1px 2px rgba(60, 64, 67, 0.3), 0px 1px 3px 1px rgba(60, 64, 67, 0.15);\n",
              "      fill: #174EA6;\n",
              "    }\n",
              "\n",
              "    .colab-df-buttons div {\n",
              "      margin-bottom: 4px;\n",
              "    }\n",
              "\n",
              "    [theme=dark] .colab-df-convert {\n",
              "      background-color: #3B4455;\n",
              "      fill: #D2E3FC;\n",
              "    }\n",
              "\n",
              "    [theme=dark] .colab-df-convert:hover {\n",
              "      background-color: #434B5C;\n",
              "      box-shadow: 0px 1px 3px 1px rgba(0, 0, 0, 0.15);\n",
              "      filter: drop-shadow(0px 1px 2px rgba(0, 0, 0, 0.3));\n",
              "      fill: #FFFFFF;\n",
              "    }\n",
              "  </style>\n",
              "\n",
              "    <script>\n",
              "      const buttonEl =\n",
              "        document.querySelector('#df-271091ba-9d79-4e27-9ed6-3c6f9ce31268 button.colab-df-convert');\n",
              "      buttonEl.style.display =\n",
              "        google.colab.kernel.accessAllowed ? 'block' : 'none';\n",
              "\n",
              "      async function convertToInteractive(key) {\n",
              "        const element = document.querySelector('#df-271091ba-9d79-4e27-9ed6-3c6f9ce31268');\n",
              "        const dataTable =\n",
              "          await google.colab.kernel.invokeFunction('convertToInteractive',\n",
              "                                                    [key], {});\n",
              "        if (!dataTable) return;\n",
              "\n",
              "        const docLinkHtml = 'Like what you see? Visit the ' +\n",
              "          '<a target=\"_blank\" href=https://colab.research.google.com/notebooks/data_table.ipynb>data table notebook</a>'\n",
              "          + ' to learn more about interactive tables.';\n",
              "        element.innerHTML = '';\n",
              "        dataTable['output_type'] = 'display_data';\n",
              "        await google.colab.output.renderOutput(dataTable, element);\n",
              "        const docLink = document.createElement('div');\n",
              "        docLink.innerHTML = docLinkHtml;\n",
              "        element.appendChild(docLink);\n",
              "      }\n",
              "    </script>\n",
              "  </div>\n",
              "\n",
              "\n",
              "<div id=\"df-853e3789-e4d5-416c-9229-604557a8738c\">\n",
              "  <button class=\"colab-df-quickchart\" onclick=\"quickchart('df-853e3789-e4d5-416c-9229-604557a8738c')\"\n",
              "            title=\"Suggest charts\"\n",
              "            style=\"display:none;\">\n",
              "\n",
              "<svg xmlns=\"http://www.w3.org/2000/svg\" height=\"24px\"viewBox=\"0 0 24 24\"\n",
              "     width=\"24px\">\n",
              "    <g>\n",
              "        <path d=\"M19 3H5c-1.1 0-2 .9-2 2v14c0 1.1.9 2 2 2h14c1.1 0 2-.9 2-2V5c0-1.1-.9-2-2-2zM9 17H7v-7h2v7zm4 0h-2V7h2v10zm4 0h-2v-4h2v4z\"/>\n",
              "    </g>\n",
              "</svg>\n",
              "  </button>\n",
              "\n",
              "<style>\n",
              "  .colab-df-quickchart {\n",
              "      --bg-color: #E8F0FE;\n",
              "      --fill-color: #1967D2;\n",
              "      --hover-bg-color: #E2EBFA;\n",
              "      --hover-fill-color: #174EA6;\n",
              "      --disabled-fill-color: #AAA;\n",
              "      --disabled-bg-color: #DDD;\n",
              "  }\n",
              "\n",
              "  [theme=dark] .colab-df-quickchart {\n",
              "      --bg-color: #3B4455;\n",
              "      --fill-color: #D2E3FC;\n",
              "      --hover-bg-color: #434B5C;\n",
              "      --hover-fill-color: #FFFFFF;\n",
              "      --disabled-bg-color: #3B4455;\n",
              "      --disabled-fill-color: #666;\n",
              "  }\n",
              "\n",
              "  .colab-df-quickchart {\n",
              "    background-color: var(--bg-color);\n",
              "    border: none;\n",
              "    border-radius: 50%;\n",
              "    cursor: pointer;\n",
              "    display: none;\n",
              "    fill: var(--fill-color);\n",
              "    height: 32px;\n",
              "    padding: 0;\n",
              "    width: 32px;\n",
              "  }\n",
              "\n",
              "  .colab-df-quickchart:hover {\n",
              "    background-color: var(--hover-bg-color);\n",
              "    box-shadow: 0 1px 2px rgba(60, 64, 67, 0.3), 0 1px 3px 1px rgba(60, 64, 67, 0.15);\n",
              "    fill: var(--button-hover-fill-color);\n",
              "  }\n",
              "\n",
              "  .colab-df-quickchart-complete:disabled,\n",
              "  .colab-df-quickchart-complete:disabled:hover {\n",
              "    background-color: var(--disabled-bg-color);\n",
              "    fill: var(--disabled-fill-color);\n",
              "    box-shadow: none;\n",
              "  }\n",
              "\n",
              "  .colab-df-spinner {\n",
              "    border: 2px solid var(--fill-color);\n",
              "    border-color: transparent;\n",
              "    border-bottom-color: var(--fill-color);\n",
              "    animation:\n",
              "      spin 1s steps(1) infinite;\n",
              "  }\n",
              "\n",
              "  @keyframes spin {\n",
              "    0% {\n",
              "      border-color: transparent;\n",
              "      border-bottom-color: var(--fill-color);\n",
              "      border-left-color: var(--fill-color);\n",
              "    }\n",
              "    20% {\n",
              "      border-color: transparent;\n",
              "      border-left-color: var(--fill-color);\n",
              "      border-top-color: var(--fill-color);\n",
              "    }\n",
              "    30% {\n",
              "      border-color: transparent;\n",
              "      border-left-color: var(--fill-color);\n",
              "      border-top-color: var(--fill-color);\n",
              "      border-right-color: var(--fill-color);\n",
              "    }\n",
              "    40% {\n",
              "      border-color: transparent;\n",
              "      border-right-color: var(--fill-color);\n",
              "      border-top-color: var(--fill-color);\n",
              "    }\n",
              "    60% {\n",
              "      border-color: transparent;\n",
              "      border-right-color: var(--fill-color);\n",
              "    }\n",
              "    80% {\n",
              "      border-color: transparent;\n",
              "      border-right-color: var(--fill-color);\n",
              "      border-bottom-color: var(--fill-color);\n",
              "    }\n",
              "    90% {\n",
              "      border-color: transparent;\n",
              "      border-bottom-color: var(--fill-color);\n",
              "    }\n",
              "  }\n",
              "</style>\n",
              "\n",
              "  <script>\n",
              "    async function quickchart(key) {\n",
              "      const quickchartButtonEl =\n",
              "        document.querySelector('#' + key + ' button');\n",
              "      quickchartButtonEl.disabled = true;  // To prevent multiple clicks.\n",
              "      quickchartButtonEl.classList.add('colab-df-spinner');\n",
              "      try {\n",
              "        const charts = await google.colab.kernel.invokeFunction(\n",
              "            'suggestCharts', [key], {});\n",
              "      } catch (error) {\n",
              "        console.error('Error during call to suggestCharts:', error);\n",
              "      }\n",
              "      quickchartButtonEl.classList.remove('colab-df-spinner');\n",
              "      quickchartButtonEl.classList.add('colab-df-quickchart-complete');\n",
              "    }\n",
              "    (() => {\n",
              "      let quickchartButtonEl =\n",
              "        document.querySelector('#df-853e3789-e4d5-416c-9229-604557a8738c button');\n",
              "      quickchartButtonEl.style.display =\n",
              "        google.colab.kernel.accessAllowed ? 'block' : 'none';\n",
              "    })();\n",
              "  </script>\n",
              "</div>\n",
              "\n",
              "    </div>\n",
              "  </div>\n"
            ],
            "application/vnd.google.colaboratory.intrinsic+json": {
              "type": "dataframe",
              "variable_name": "restaurant_df",
              "summary": "{\n  \"name\": \"restaurant_df\",\n  \"rows\": 52268,\n  \"fields\": [\n    {\n      \"column\": \"business_id\",\n      \"properties\": {\n        \"dtype\": \"string\",\n        \"num_unique_values\": 52268,\n        \"samples\": [\n          \"vufXnNdvRl_Y0wAj_wLzOg\",\n          \"yuPvBtME-EkSfA5T2L80gA\",\n          \"3NIK6Q3gk3XkVvBtAdVpXg\"\n        ],\n        \"semantic_type\": \"\",\n        \"description\": \"\"\n      }\n    },\n    {\n      \"column\": \"name\",\n      \"properties\": {\n        \"dtype\": \"string\",\n        \"num_unique_values\": 36732,\n        \"samples\": [\n          \"Mt Lemmon Cafe\",\n          \"Philly Grill & Pizza\",\n          \"JB Goods\"\n        ],\n        \"semantic_type\": \"\",\n        \"description\": \"\"\n      }\n    },\n    {\n      \"column\": \"address\",\n      \"properties\": {\n        \"dtype\": \"string\",\n        \"num_unique_values\": 42064,\n        \"samples\": [\n          \"1261 Blackwood Clementon Rd\",\n          \"7425 S Lindbergh Blvd\",\n          \"5204 23Rd Avenue\"\n        ],\n        \"semantic_type\": \"\",\n        \"description\": \"\"\n      }\n    },\n    {\n      \"column\": \"city\",\n      \"properties\": {\n        \"dtype\": \"category\",\n        \"num_unique_values\": 920,\n        \"samples\": [\n          \"Clayton\",\n          \"Chester Springs\",\n          \"Coatesville\"\n        ],\n        \"semantic_type\": \"\",\n        \"description\": \"\"\n      }\n    },\n    {\n      \"column\": \"state\",\n      \"properties\": {\n        \"dtype\": \"category\",\n        \"num_unique_values\": 19,\n        \"samples\": [\n          \"PA\",\n          \"AB\",\n          \"CA\"\n        ],\n        \"semantic_type\": \"\",\n        \"description\": \"\"\n      }\n    },\n    {\n      \"column\": \"postal_code\",\n      \"properties\": {\n        \"dtype\": \"category\",\n        \"num_unique_values\": 2116,\n        \"samples\": [\n          \"T5J 1M1\",\n          \"T5J 0P6\",\n          \"T5L 5E7\"\n        ],\n        \"semantic_type\": \"\",\n        \"description\": \"\"\n      }\n    },\n    {\n      \"column\": \"latitude\",\n      \"properties\": {\n        \"dtype\": \"number\",\n        \"std\": 6.011375833417268,\n        \"min\": 27.5644572387,\n        \"max\": 53.6791969,\n        \"num_unique_values\": 49088,\n        \"samples\": [\n          28.2175712,\n          40.0286286,\n          39.883586\n        ],\n        \"semantic_type\": \"\",\n        \"description\": \"\"\n      }\n    },\n    {\n      \"column\": \"longitude\",\n      \"properties\": {\n        \"dtype\": \"number\",\n        \"std\": 13.811196738737937,\n        \"min\": -120.083748,\n        \"max\": -74.6644589092,\n        \"num_unique_values\": 48543,\n        \"samples\": [\n          -86.1395169,\n          -75.0738671,\n          -75.027859\n        ],\n        \"semantic_type\": \"\",\n        \"description\": \"\"\n      }\n    },\n    {\n      \"column\": \"stars\",\n      \"properties\": {\n        \"dtype\": \"number\",\n        \"std\": 0.8295934200812459,\n        \"min\": 1.0,\n        \"max\": 5.0,\n        \"num_unique_values\": 9,\n        \"samples\": [\n          5.0,\n          2.0,\n          4.5\n        ],\n        \"semantic_type\": \"\",\n        \"description\": \"\"\n      }\n    },\n    {\n      \"column\": \"review_count\",\n      \"properties\": {\n        \"dtype\": \"number\",\n        \"std\": 188,\n        \"min\": 5,\n        \"max\": 7568,\n        \"num_unique_values\": 1132,\n        \"samples\": [\n          2473,\n          3582,\n          541\n        ],\n        \"semantic_type\": \"\",\n        \"description\": \"\"\n      }\n    },\n    {\n      \"column\": \"is_open\",\n      \"properties\": {\n        \"dtype\": \"number\",\n        \"std\": 0,\n        \"min\": 0,\n        \"max\": 1,\n        \"num_unique_values\": 2,\n        \"samples\": [\n          0,\n          1\n        ],\n        \"semantic_type\": \"\",\n        \"description\": \"\"\n      }\n    },\n    {\n      \"column\": \"attributes\",\n      \"properties\": {\n        \"dtype\": \"object\",\n        \"semantic_type\": \"\",\n        \"description\": \"\"\n      }\n    },\n    {\n      \"column\": \"categories\",\n      \"properties\": {\n        \"dtype\": \"string\",\n        \"num_unique_values\": 31680,\n        \"samples\": [\n          \"Food, Mexican, Restaurants, Fast Food\",\n          \"Restaurants, Food, Tex-Mex, Smokehouse, Mexican, Barbeque\"\n        ],\n        \"semantic_type\": \"\",\n        \"description\": \"\"\n      }\n    },\n    {\n      \"column\": \"hours\",\n      \"properties\": {\n        \"dtype\": \"object\",\n        \"semantic_type\": \"\",\n        \"description\": \"\"\n      }\n    }\n  ]\n}"
            }
          },
          "metadata": {},
          "execution_count": 5
        }
      ]
    },
    {
      "cell_type": "code",
      "source": [
        "#Since most of our hypothesis deals with the characteristics of the restaurants stored in the 'attributes' column, we try to open it\n",
        "unique_attributes=set()\n",
        "for attributes in df['attributes'].dropna():\n",
        "  unique_attributes.update(attributes.keys())\n",
        "\n",
        "#Printing\n",
        "unique_attributes_list=list(unique_attributes)\n",
        "for attribute in unique_attributes_list:\n",
        "  print(attribute)\n"
      ],
      "metadata": {
        "colab": {
          "base_uri": "https://localhost:8080/"
        },
        "id": "jQP1gcrehSmB",
        "outputId": "e2c2435e-9b6b-4a34-e214-3df2d4409452"
      },
      "execution_count": null,
      "outputs": [
        {
          "output_type": "stream",
          "name": "stdout",
          "text": [
            "Music\n",
            "GoodForKids\n",
            "Smoking\n",
            "BYOB\n",
            "GoodForDancing\n",
            "BestNights\n",
            "NoiseLevel\n",
            "BikeParking\n",
            "RestaurantsCounterService\n",
            "WiFi\n",
            "RestaurantsTakeOut\n",
            "Corkage\n",
            "BusinessAcceptsBitcoin\n",
            "RestaurantsPriceRange2\n",
            "AgesAllowed\n",
            "DietaryRestrictions\n",
            "DogsAllowed\n",
            "Open24Hours\n",
            "Caters\n",
            "WheelchairAccessible\n",
            "RestaurantsTableService\n",
            "AcceptsInsurance\n",
            "HasTV\n",
            "Alcohol\n",
            "CoatCheck\n",
            "GoodForMeal\n",
            "Ambience\n",
            "BusinessParking\n",
            "OutdoorSeating\n",
            "HairSpecializesIn\n",
            "RestaurantsReservations\n",
            "HappyHour\n",
            "RestaurantsAttire\n",
            "ByAppointmentOnly\n",
            "BusinessAcceptsCreditCards\n",
            "BYOBCorkage\n",
            "DriveThru\n",
            "RestaurantsDelivery\n",
            "RestaurantsGoodForGroups\n"
          ]
        }
      ]
    },
    {
      "cell_type": "markdown",
      "source": [
        "# Hypothesis 1: Restaurants that are open have better ratings that those that are not"
      ],
      "metadata": {
        "id": "H-BnDV3g2DGx"
      }
    },
    {
      "cell_type": "markdown",
      "source": [
        "**Null Hypothesis** : Open restaurant ratings <= Closed restaurant ratings\n",
        "\n",
        "**Alternative Hypothesis** : Open restaurant ratings > Closed restaurant ratings"
      ],
      "metadata": {
        "id": "jCvvJEJJ29QL"
      }
    },
    {
      "cell_type": "code",
      "source": [
        "#To know if we have to use Paired t-test or 2 sample t-test, compare lengths\n",
        "print(restaurant_df[restaurant_df['is_open']==1].shape)\n",
        "print(restaurant_df[restaurant_df['is_open']==0].shape)\n",
        "\n",
        "#Since they have different lengths, we will use 2 sample t-test\n",
        "\n",
        "#Saving restaurant ratings\n",
        "open_rest_stars = restaurant_df[restaurant_df['is_open']==1]['stars']\n",
        "closed_rest_stars = restaurant_df[restaurant_df['is_open']==0]['stars']"
      ],
      "metadata": {
        "colab": {
          "base_uri": "https://localhost:8080/"
        },
        "id": "ylv6fvjV10oV",
        "outputId": "3359a0f0-29a1-48b5-e990-5ca8c5cee808"
      },
      "execution_count": null,
      "outputs": [
        {
          "output_type": "stream",
          "name": "stdout",
          "text": [
            "(34987, 14)\n",
            "(17281, 14)\n"
          ]
        }
      ]
    },
    {
      "cell_type": "code",
      "source": [
        "#Finding means\n",
        "print(f\"Mean of open restaurant ratings : {open_rest_stars.mean()}\")\n",
        "print(f\"Mean of closed restaurant ratings : {closed_rest_stars.mean()}\")"
      ],
      "metadata": {
        "colab": {
          "base_uri": "https://localhost:8080/"
        },
        "id": "uKigE4Q741tW",
        "outputId": "298f4e35-c3e9-403e-84d6-f6bbcae47517"
      },
      "execution_count": null,
      "outputs": [
        {
          "output_type": "stream",
          "name": "stdout",
          "text": [
            "Mean of open restaurant ratings : 3.523894589418927\n",
            "Mean of closed restaurant ratings : 3.4975117180718707\n"
          ]
        }
      ]
    },
    {
      "cell_type": "code",
      "source": [
        "#Using functions\n",
        "\n",
        "def p_value_reader(p_value, alpha):\n",
        "  if p_value<alpha:\n",
        "    print(f\"Reject the null hypothesis. p-value is {p_value}\")\n",
        "  else:\n",
        "    print(f\"Fail to reject the null hypothesis. p-value is {p_value}\")\n",
        "\n",
        "def twosamp(samp1,samp2, alpha, alternative):\n",
        "  statistic, p_value = st.levene(samp1, samp2)\n",
        "  if p_value<alpha:\n",
        "    print(f\"Reject the Null hypothesis. Variances are unequal. Perform Welch's test\")\n",
        "    t_statistic, p_value = st.ttest_ind(samp1, samp2, equal_var=False, alternative='two-sided')\n",
        "  else:\n",
        "    print(f\"Fail to reject the Null hypothesis. Variances are equal. Perform 2 sample t-test\")\n",
        "    t_statistic, p_value = st.ttest_ind(samp1, samp2, equal_var=True, alterantive='two-sided')\n",
        "  print(f\"t-value is {t_statistic}\")\n",
        "  print(f\"p-value is {p_value}\")\n",
        "  p_value_reader(p_value, alpha)"
      ],
      "metadata": {
        "id": "G5oosipw5ZUT"
      },
      "execution_count": null,
      "outputs": []
    },
    {
      "cell_type": "code",
      "source": [
        "twosamp(open_rest_stars, closed_rest_stars, 0.05, alternative='greater')"
      ],
      "metadata": {
        "colab": {
          "base_uri": "https://localhost:8080/"
        },
        "id": "Ou_8lI176aPu",
        "outputId": "7ae0a2b7-3892-4f5f-8f55-07e9293144de"
      },
      "execution_count": null,
      "outputs": [
        {
          "output_type": "stream",
          "name": "stdout",
          "text": [
            "Reject the Null hypothesis. Variances are unequal. Perform Welch's test\n",
            "t-value is 3.5732547825453924\n",
            "p-value is 0.00035300021800783977\n",
            "Reject the null hypothesis. p-value is 0.00035300021800783977\n"
          ]
        }
      ]
    },
    {
      "cell_type": "markdown",
      "source": [
        "# Hypothesis 2: Restaurants that deliver food have worse ratings"
      ],
      "metadata": {
        "id": "6D596fmK4Plw"
      }
    },
    {
      "cell_type": "markdown",
      "source": [
        "**Null Hypothesis** : Ratings of restaurants that deliver food >= Ratings of restaurants that don't deliver food\n",
        "\n",
        "**Alternative Hypothesis** : Ratings of restaurants that deliver food < Ratings of restaurants that don't deliver food"
      ],
      "metadata": {
        "id": "iAOtCOnMCL_b"
      }
    },
    {
      "cell_type": "markdown",
      "source": [
        "2 sample t-test will be used"
      ],
      "metadata": {
        "id": "BttJq2bwFPIq"
      }
    },
    {
      "cell_type": "code",
      "source": [
        "#Creating a copy of dataframe\n",
        "df_h2=restaurant_df.copy()"
      ],
      "metadata": {
        "id": "-edo0xL2DSc7"
      },
      "execution_count": null,
      "outputs": []
    },
    {
      "cell_type": "code",
      "source": [
        "#Defining a function to extract 'RestaurantsDelivery' value\n",
        "def is_delivery(attributes):\n",
        "  if attributes and 'RestaurantsDelivery' in attributes:\n",
        "    return attributes['RestaurantsDelivery']=='True'\n",
        "  return 'False'\n",
        "\n",
        "#Applying the function to 'attributes' column and creating a new 'delivers_food' column\n",
        "df_h2['delivers_food']=df_h2['attributes'].apply(is_delivery)"
      ],
      "metadata": {
        "id": "m00RrvQvFbkW"
      },
      "execution_count": null,
      "outputs": []
    },
    {
      "cell_type": "code",
      "source": [
        "#Ratings for delivery and non-delivery restaurants\n",
        "delivery_stars=df_h2[df_h2['delivers_food']==True]['stars']\n",
        "non_delivery_stars=df_h2[df_h2['delivers_food']==False]['stars']"
      ],
      "metadata": {
        "id": "c8Jhq1XWNvgF"
      },
      "execution_count": null,
      "outputs": []
    },
    {
      "cell_type": "code",
      "source": [
        "#Printing mean\n",
        "print(f\"Mean of delivery restaurant ratings : {delivery_stars.mean()}\")\n",
        "print(f\"Mean of non-delivery restaurant ratings : {non_delivery_stars.mean()}\")"
      ],
      "metadata": {
        "colab": {
          "base_uri": "https://localhost:8080/"
        },
        "id": "LtevBX0mQX3J",
        "outputId": "5b7be5ac-204d-41f4-c0a7-ebf2ad110796"
      },
      "execution_count": null,
      "outputs": [
        {
          "output_type": "stream",
          "name": "stdout",
          "text": [
            "Mean of delivery restaurant ratings : 3.406033450640351\n",
            "Mean of non-delivery restaurant ratings : 3.6370016425265046\n"
          ]
        }
      ]
    },
    {
      "cell_type": "code",
      "source": [
        "twosamp(delivery_stars, non_delivery_stars, 0.05, 'lesser')"
      ],
      "metadata": {
        "colab": {
          "base_uri": "https://localhost:8080/"
        },
        "id": "iPXGIG3iRIuD",
        "outputId": "47846118-b595-43bf-b151-90bfc9e17182"
      },
      "execution_count": null,
      "outputs": [
        {
          "output_type": "stream",
          "name": "stdout",
          "text": [
            "Reject the Null hypothesis. Variances are unequal. Perform Welch's test\n",
            "t-value is -31.35767491972868\n",
            "p-value is 1.2677413498342644e-213\n",
            "Reject the null hypothesis. p-value is 1.2677413498342644e-213\n"
          ]
        }
      ]
    },
    {
      "cell_type": "markdown",
      "source": [
        "# Hypothesis 3: Restaurants that allow smoking are less likely to be open"
      ],
      "metadata": {
        "id": "u_gsFLLh_GDo"
      }
    },
    {
      "cell_type": "markdown",
      "source": [
        "**Null Hypothesis** : No relationship between variables\n",
        "\n",
        "**Alternative Hypothesis** : Restaurants that allow smoking are less likely to be open"
      ],
      "metadata": {
        "id": "K4FKX4-1TohO"
      }
    },
    {
      "cell_type": "markdown",
      "source": [
        "Chi-square test will be used"
      ],
      "metadata": {
        "id": "U-FCNOSjUSnR"
      }
    },
    {
      "cell_type": "code",
      "source": [
        "#Making a copy\n",
        "df_h3=restaurant_df.copy()"
      ],
      "metadata": {
        "id": "tsyEOuH6T4Z_"
      },
      "execution_count": null,
      "outputs": []
    },
    {
      "cell_type": "code",
      "source": [
        "#Creating a seperate column for 'allows_smoking' attribute\n",
        "df_h3['allows_smoking']=df_h3['attributes'].apply(lambda x: x.get('Smoking')==True if x else False)"
      ],
      "metadata": {
        "id": "4CrjpB0umC5j"
      },
      "execution_count": null,
      "outputs": []
    },
    {
      "cell_type": "code",
      "source": [
        "#Contingency table\n",
        "contingency_table=pd.crosstab(df_h3['allows_smoking'], df_h3['is_open'])\n",
        "print(contingency_table)"
      ],
      "metadata": {
        "colab": {
          "base_uri": "https://localhost:8080/"
        },
        "id": "4k7xA-XgnaIY",
        "outputId": "7ed946e4-5322-43a8-c44e-dd837a2c55f9"
      },
      "execution_count": null,
      "outputs": [
        {
          "output_type": "stream",
          "name": "stdout",
          "text": [
            "is_open             0      1\n",
            "allows_smoking              \n",
            "False           17281  34987\n"
          ]
        }
      ]
    },
    {
      "cell_type": "markdown",
      "source": [
        "allows_smoking is False, which means that no restaurant allows smoking hence rendering the hypothesis pointless."
      ],
      "metadata": {
        "id": "sAli79VUoq_j"
      }
    }
  ]
}